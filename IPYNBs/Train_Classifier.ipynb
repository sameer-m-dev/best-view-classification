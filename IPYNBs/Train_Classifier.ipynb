{
  "nbformat": 4,
  "nbformat_minor": 0,
  "metadata": {
    "colab": {
      "name": "Fynd - Train Classifier",
      "version": "0.3.2",
      "provenance": [],
      "collapsed_sections": []
    },
    "kernelspec": {
      "name": "python3",
      "display_name": "Python 3"
    },
    "accelerator": "GPU"
  },
  "cells": [
    {
      "cell_type": "code",
      "metadata": {
        "id": "dSa5SQ1XuvcZ",
        "colab_type": "code",
        "colab": {}
      },
      "source": [
        "import matplotlib\n",
        "matplotlib.use(\"Agg\")\n",
        "\n",
        "# import the necessary packages\n",
        "from keras.preprocessing.image import ImageDataGenerator\n",
        "from keras.optimizers import Adam\n",
        "from keras.preprocessing.image import img_to_array\n",
        "from keras.callbacks import ModelCheckpoint\n",
        "from sklearn.preprocessing import LabelEncoder\n",
        "from sklearn.model_selection import train_test_split\n",
        "from keras.applications.vgg19 import VGG19\n",
        "from keras.applications.resnet50 import ResNet50\n",
        "from keras.applications.densenet import DenseNet201 \n",
        "from keras.applications.nasnet import NASNetMobile\n",
        "from keras.models import Model\n",
        "from keras.layers import Dense, GlobalAveragePooling2D, Dropout\n",
        "from keras.optimizers import SGD\n",
        "import matplotlib.pyplot as plt\n",
        "from imutils import paths\n",
        "import numpy as np\n",
        "import argparse\n",
        "import random\n",
        "import pickle\n",
        "import cv2\n",
        "import os\n",
        "import pandas as pd\n",
        "import numpy as np\n",
        "import urllib.request \n",
        "from tqdm import tqdm_notebook as tqdm"
      ],
      "execution_count": 0,
      "outputs": []
    },
    {
      "cell_type": "code",
      "metadata": {
        "id": "9b1PGcein0IJ",
        "colab_type": "code",
        "colab": {}
      },
      "source": [
        "# Run this cell to mount your Google Drive.\n",
        "from google.colab import drive\n",
        "drive.mount('/content/drive')"
      ],
      "execution_count": 0,
      "outputs": []
    },
    {
      "cell_type": "code",
      "metadata": {
        "id": "jr8gBUx9-Faj",
        "colab_type": "code",
        "colab": {}
      },
      "source": [
        "!unzip drive/My\\ Drive/final_data-fynd.zip"
      ],
      "execution_count": 0,
      "outputs": []
    },
    {
      "cell_type": "code",
      "metadata": {
        "id": "aOg7jkHto5K5",
        "colab_type": "code",
        "colab": {}
      },
      "source": [
        "EPOCHS = 25\n",
        "INIT_LR = 1e-3\n",
        "BS = 32\n",
        "IMAGE_DIMS = (128, 128, 3)"
      ],
      "execution_count": 0,
      "outputs": []
    },
    {
      "cell_type": "code",
      "metadata": {
        "id": "xjVZuyyu2fVV",
        "colab_type": "code",
        "outputId": "f1020117-24a4-48d8-8dc3-894a0424b157",
        "colab": {
          "base_uri": "https://localhost:8080/",
          "height": 35
        }
      },
      "source": [
        "add = 0\n",
        "for class_type in ['backstrap', 'buckle', 'hook', 'lace_up', 'slip_on', 'zipper']:\n",
        "  add = add + len(os.listdir(\"data/BV/\"+class_type))\n",
        "print(add)"
      ],
      "execution_count": 0,
      "outputs": [
        {
          "output_type": "stream",
          "text": [
            "2087\n"
          ],
          "name": "stdout"
        }
      ]
    },
    {
      "cell_type": "code",
      "metadata": {
        "id": "oHeV-78H7b4G",
        "colab_type": "code",
        "outputId": "7e177689-a785-4273-cc02-2144cad83429",
        "colab": {
          "base_uri": "https://localhost:8080/",
          "height": 35
        }
      },
      "source": [
        "add = 0\n",
        "for class_type in ['backstrap', 'buckle', 'hook', 'lace_up', 'slip_on', 'zipper']:\n",
        "  add = add + len(os.listdir(\"data/NBV/\"+class_type))\n",
        "print(add)"
      ],
      "execution_count": 0,
      "outputs": [
        {
          "output_type": "stream",
          "text": [
            "6907\n"
          ],
          "name": "stdout"
        }
      ]
    },
    {
      "cell_type": "code",
      "metadata": {
        "id": "leJlhB21qB0A",
        "colab_type": "code",
        "outputId": "3a576228-3ed1-423a-873f-9cfaca7ad760",
        "colab": {
          "base_uri": "https://localhost:8080/",
          "height": 71
        }
      },
      "source": [
        "print(\"[INFO] loading images...\")\n",
        "labels = []\n",
        "# 2087 + 6907 = 8994\n",
        "data = np.empty((8994, 128, 128, 3))\n",
        "i = 0\n",
        "new_labels = []\n",
        "print (\"Size of data before = \",data.nbytes / (1024 * 1000.0))\n",
        "\n",
        "for class_type in ['backstrap', 'buckle', 'hook', 'lace_up', 'slip_on', 'zipper']:\n",
        "  imagePaths = sorted(list(paths.list_images('data/BV/'+class_type)))\n",
        "  random.seed(42)\n",
        "  random.shuffle(imagePaths)\n",
        "  \n",
        "  for imagePath in imagePaths:\n",
        "    # load the image, pre-process it, and store it in the data list\n",
        "    image = cv2.imread(imagePath)\n",
        "    image = cv2.resize(image, (IMAGE_DIMS[1], IMAGE_DIMS[0]))\n",
        "    data[i,]=image\n",
        "    i = i+1\n",
        "    # extract set of class labels from the image path and update the labels list\n",
        "    l = label = class_type+'_BV'\n",
        "    labels.append(l)\n",
        "    \n",
        "for class_type in ['backstrap', 'buckle', 'hook', 'lace_up', 'slip_on', 'zipper']:\n",
        "  imagePaths = sorted(list(paths.list_images('data/NBV/'+class_type)))\n",
        "  random.seed(42)\n",
        "  random.shuffle(imagePaths)\n",
        "  \n",
        "  for imagePath in imagePaths:\n",
        "    # load the image, pre-process it, and store it in the data list\n",
        "    image = cv2.imread(imagePath)\n",
        "    image = cv2.resize(image, (IMAGE_DIMS[1], IMAGE_DIMS[0]))\n",
        "    data[i,]=image\n",
        "    i = i+1\n",
        "    # extract set of class labels from the image path and update the labels list\n",
        "    l = label = class_type+'_NBV'\n",
        "    labels.append(l)\n",
        "data = data/255.0\n",
        "print(\"[INFO] data matrix: {} images ({:.2f}MB)\".format(i, data.nbytes / (1024 * 1000.0)))\n",
        "del(imagePaths)\n",
        "new_labels = labels\n",
        "labels = np.array(labels)"
      ],
      "execution_count": 0,
      "outputs": [
        {
          "output_type": "stream",
          "text": [
            "[INFO] loading images...\n",
            "Size of data before =  3453.696\n",
            "[INFO] data matrix: 8994 images (3453.70MB)\n"
          ],
          "name": "stdout"
        }
      ]
    },
    {
      "cell_type": "code",
      "metadata": {
        "id": "h9ew1kWq1f4A",
        "colab_type": "code",
        "outputId": "f57c8c61-1029-40a8-8d02-4de708d8982d",
        "colab": {
          "base_uri": "https://localhost:8080/",
          "height": 233
        }
      },
      "source": [
        "set(labels)"
      ],
      "execution_count": 0,
      "outputs": [
        {
          "output_type": "execute_result",
          "data": {
            "text/plain": [
              "{'backstrap_BV',\n",
              " 'backstrap_NBV',\n",
              " 'buckle_BV',\n",
              " 'buckle_NBV',\n",
              " 'hook_BV',\n",
              " 'hook_NBV',\n",
              " 'lace_up_BV',\n",
              " 'lace_up_NBV',\n",
              " 'slip_on_BV',\n",
              " 'slip_on_NBV',\n",
              " 'zipper_BV',\n",
              " 'zipper_NBV'}"
            ]
          },
          "metadata": {
            "tags": []
          },
          "execution_count": 11
        }
      ]
    },
    {
      "cell_type": "code",
      "metadata": {
        "id": "fxY8PWrBfpKN",
        "colab_type": "code",
        "outputId": "d49bdc1a-0df6-4385-9b57-d29fa2d2c456",
        "colab": {
          "base_uri": "https://localhost:8080/",
          "height": 251
        }
      },
      "source": [
        "from sklearn.preprocessing import LabelBinarizer\n",
        "print(\"[INFO] class labels:\")\n",
        "mlb = LabelBinarizer()\n",
        "labels = mlb.fit_transform(labels)\n",
        "\n",
        "# loop over each of the possible class labels and show them\n",
        "for (i, label) in enumerate(mlb.classes_):\n",
        "\tprint(\"{}. {}\".format(i + 1, label))\n"
      ],
      "execution_count": 0,
      "outputs": [
        {
          "output_type": "stream",
          "text": [
            "[INFO] class labels:\n",
            "1. backstrap_BV\n",
            "2. backstrap_NBV\n",
            "3. buckle_BV\n",
            "4. buckle_NBV\n",
            "5. hook_BV\n",
            "6. hook_NBV\n",
            "7. lace_up_BV\n",
            "8. lace_up_NBV\n",
            "9. slip_on_BV\n",
            "10. slip_on_NBV\n",
            "11. zipper_BV\n",
            "12. zipper_NBV\n"
          ],
          "name": "stdout"
        }
      ]
    },
    {
      "cell_type": "code",
      "metadata": {
        "id": "jzqk7npC1mdq",
        "colab_type": "code",
        "colab": {}
      },
      "source": [
        "(trainX, testX, trainY, testY) = train_test_split(data,\n",
        "\tlabels, test_size=0.2, random_state=42,shuffle=True)\n",
        "del data"
      ],
      "execution_count": 0,
      "outputs": []
    },
    {
      "cell_type": "code",
      "metadata": {
        "id": "ZJy6gDhQ2P6r",
        "colab_type": "code",
        "colab": {}
      },
      "source": [
        "aug = ImageDataGenerator(rotation_range=25, width_shift_range=0.1,\n",
        "\theight_shift_range=0.1, shear_range=0.2, zoom_range=0.2,\n",
        "\thorizontal_flip=True, fill_mode=\"nearest\")"
      ],
      "execution_count": 0,
      "outputs": []
    },
    {
      "cell_type": "code",
      "metadata": {
        "id": "m5-r3ecC2S37",
        "colab_type": "code",
        "colab": {}
      },
      "source": [
        "vgg_model = VGG19(input_shape=(128, 128, 3), include_top=False, weights='imagenet')"
      ],
      "execution_count": 0,
      "outputs": []
    },
    {
      "cell_type": "code",
      "metadata": {
        "id": "KSzIuRey2UWM",
        "colab_type": "code",
        "outputId": "82d02728-a073-435b-9e1f-e1e90b3681b9",
        "colab": {
          "base_uri": "https://localhost:8080/",
          "height": 1000
        }
      },
      "source": [
        "x = vgg_model.output\n",
        "x = GlobalAveragePooling2D()(x)\n",
        "\n",
        "# add fully-connected layer\n",
        "x = Dense(512, activation='relu')(x)\n",
        "x = Dropout(0.3)(x)\n",
        "\n",
        "# add output layer\n",
        "predictions = Dense(12, activation='softmax')(x)\n",
        "\n",
        "model = Model(inputs=vgg_model.input, outputs=predictions)\n",
        "\n",
        "# freeze pre-trained model area's layer\n",
        "for layer in vgg_model.layers:\n",
        "    layer.trainable = False\n",
        "\n",
        "model.summary()\n"
      ],
      "execution_count": 0,
      "outputs": [
        {
          "output_type": "stream",
          "text": [
            "_________________________________________________________________\n",
            "Layer (type)                 Output Shape              Param #   \n",
            "=================================================================\n",
            "input_5 (InputLayer)         (None, 128, 128, 3)       0         \n",
            "_________________________________________________________________\n",
            "block1_conv1 (Conv2D)        (None, 128, 128, 64)      1792      \n",
            "_________________________________________________________________\n",
            "block1_conv2 (Conv2D)        (None, 128, 128, 64)      36928     \n",
            "_________________________________________________________________\n",
            "block1_pool (MaxPooling2D)   (None, 64, 64, 64)        0         \n",
            "_________________________________________________________________\n",
            "block2_conv1 (Conv2D)        (None, 64, 64, 128)       73856     \n",
            "_________________________________________________________________\n",
            "block2_conv2 (Conv2D)        (None, 64, 64, 128)       147584    \n",
            "_________________________________________________________________\n",
            "block2_pool (MaxPooling2D)   (None, 32, 32, 128)       0         \n",
            "_________________________________________________________________\n",
            "block3_conv1 (Conv2D)        (None, 32, 32, 256)       295168    \n",
            "_________________________________________________________________\n",
            "block3_conv2 (Conv2D)        (None, 32, 32, 256)       590080    \n",
            "_________________________________________________________________\n",
            "block3_conv3 (Conv2D)        (None, 32, 32, 256)       590080    \n",
            "_________________________________________________________________\n",
            "block3_conv4 (Conv2D)        (None, 32, 32, 256)       590080    \n",
            "_________________________________________________________________\n",
            "block3_pool (MaxPooling2D)   (None, 16, 16, 256)       0         \n",
            "_________________________________________________________________\n",
            "block4_conv1 (Conv2D)        (None, 16, 16, 512)       1180160   \n",
            "_________________________________________________________________\n",
            "block4_conv2 (Conv2D)        (None, 16, 16, 512)       2359808   \n",
            "_________________________________________________________________\n",
            "block4_conv3 (Conv2D)        (None, 16, 16, 512)       2359808   \n",
            "_________________________________________________________________\n",
            "block4_conv4 (Conv2D)        (None, 16, 16, 512)       2359808   \n",
            "_________________________________________________________________\n",
            "block4_pool (MaxPooling2D)   (None, 8, 8, 512)         0         \n",
            "_________________________________________________________________\n",
            "block5_conv1 (Conv2D)        (None, 8, 8, 512)         2359808   \n",
            "_________________________________________________________________\n",
            "block5_conv2 (Conv2D)        (None, 8, 8, 512)         2359808   \n",
            "_________________________________________________________________\n",
            "block5_conv3 (Conv2D)        (None, 8, 8, 512)         2359808   \n",
            "_________________________________________________________________\n",
            "block5_conv4 (Conv2D)        (None, 8, 8, 512)         2359808   \n",
            "_________________________________________________________________\n",
            "block5_pool (MaxPooling2D)   (None, 4, 4, 512)         0         \n",
            "_________________________________________________________________\n",
            "global_average_pooling2d_6 ( (None, 512)               0         \n",
            "_________________________________________________________________\n",
            "dense_11 (Dense)             (None, 512)               262656    \n",
            "_________________________________________________________________\n",
            "dropout_6 (Dropout)          (None, 512)               0         \n",
            "_________________________________________________________________\n",
            "dense_12 (Dense)             (None, 12)                6156      \n",
            "=================================================================\n",
            "Total params: 20,293,196\n",
            "Trainable params: 268,812\n",
            "Non-trainable params: 20,024,384\n",
            "_________________________________________________________________\n"
          ],
          "name": "stdout"
        }
      ]
    },
    {
      "cell_type": "code",
      "metadata": {
        "id": "5mQH7DgK2ZQB",
        "colab_type": "code",
        "colab": {}
      },
      "source": [
        "for layer in model.layers[:17]:\n",
        "    layer.trainable = False\n",
        "\n",
        "for layer in model.layers[17:]:\n",
        "    layer.trainable = True\n",
        "    \n",
        "opt = Adam(lr=INIT_LR, decay=INIT_LR / 25)\n",
        "\n",
        "model.compile(loss=\"categorical_crossentropy\", optimizer=opt,\n",
        "\tmetrics=[\"accuracy\"])\n",
        "\n",
        "# train the network\n",
        "print(\"[INFO] training network...\")\n",
        "file_epoch = \"fine_tune_shoes_multiclass.best.hdf5\"\n",
        "checkpoint = ModelCheckpoint(file_epoch, monitor='val_acc', verbose=1, save_best_only=True, mode='max')\n",
        "callbacks_list = [checkpoint]\n",
        "\n",
        "H = model.fit_generator(\n",
        "\taug.flow(trainX, trainY, batch_size=BS),\n",
        "\tvalidation_data=(testX, testY),\n",
        "\tsteps_per_epoch=len(trainX) // BS, class_weight = 'balanced',\n",
        "\tepochs=25, verbose=1, callbacks=callbacks_list)\n",
        "\n",
        "model.save('shoes_best_multiclass.model')"
      ],
      "execution_count": 0,
      "outputs": []
    },
    {
      "cell_type": "code",
      "metadata": {
        "id": "-5VBU2USeQtL",
        "colab_type": "code",
        "outputId": "05e59ba5-09a2-431a-9503-329958f6e17f",
        "colab": {
          "base_uri": "https://localhost:8080/",
          "height": 125
        }
      },
      "source": [
        "!rsync -Pav fine_tune_shoes_multiclass.best.hdf5 drive/My\\ Drive/"
      ],
      "execution_count": 0,
      "outputs": [
        {
          "output_type": "stream",
          "text": [
            "sending incremental file list\n",
            "fine_tune_shoes_multiclass.best.hdf5\n",
            "    158,937,280 100%  101.57MB/s    0:00:01 (xfr#1, to-chk=0/1)\n",
            "\n",
            "sent 158,976,199 bytes  received 35 bytes  105,984,156.00 bytes/sec\n",
            "total size is 158,937,280  speedup is 1.00\n"
          ],
          "name": "stdout"
        }
      ]
    },
    {
      "cell_type": "code",
      "metadata": {
        "id": "IrXtqdIuGDdU",
        "colab_type": "code",
        "colab": {}
      },
      "source": [
        ""
      ],
      "execution_count": 0,
      "outputs": []
    }
  ]
}