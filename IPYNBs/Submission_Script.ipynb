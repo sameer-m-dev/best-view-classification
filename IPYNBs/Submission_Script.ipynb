{
  "nbformat": 4,
  "nbformat_minor": 0,
  "metadata": {
    "colab": {
      "name": "Fynd - Submission Script",
      "version": "0.3.2",
      "provenance": [],
      "collapsed_sections": []
    },
    "kernelspec": {
      "name": "python3",
      "display_name": "Python 3"
    }
  },
  "cells": [
    {
      "cell_type": "code",
      "metadata": {
        "id": "El1simgczhQM",
        "colab_type": "code",
        "colab": {
          "base_uri": "https://localhost:8080/",
          "height": 35
        },
        "outputId": "da74a92c-1a29-4ccb-811d-36b32a5bd664"
      },
      "source": [
        "from keras.preprocessing.image import img_to_array\n",
        "from keras.models import load_model\n",
        "import numpy as np\n",
        "import pandas as pd\n",
        "import argparse\n",
        "import imutils\n",
        "import pickle\n",
        "import cv2\n",
        "import os\n",
        "from keras.applications.vgg19 import VGG19\n",
        "from keras.models import Model\n",
        "from keras.layers import Dense, GlobalAveragePooling2D, Dropout\n",
        "from keras.optimizers import SGD\n",
        "import matplotlib.pyplot as plt\n",
        "import urllib.request"
      ],
      "execution_count": 1,
      "outputs": [
        {
          "output_type": "stream",
          "text": [
            "Using TensorFlow backend.\n"
          ],
          "name": "stderr"
        }
      ]
    },
    {
      "cell_type": "code",
      "metadata": {
        "id": "8BXRA5vieSo_",
        "colab_type": "code",
        "colab": {}
      },
      "source": [
        "data_list = pd.read_excel('Internship_data.xlsx')"
      ],
      "execution_count": 0,
      "outputs": []
    },
    {
      "cell_type": "code",
      "metadata": {
        "id": "_XzI95Kf0GM7",
        "colab_type": "code",
        "colab": {}
      },
      "source": [
        "# Run this cell to mount your Google Drive.\n",
        "from google.colab import drive\n",
        "drive.mount('/content/drive')"
      ],
      "execution_count": 0,
      "outputs": []
    },
    {
      "cell_type": "code",
      "metadata": {
        "id": "ijpYGeGo1O6o",
        "colab_type": "code",
        "colab": {}
      },
      "source": [
        "!unzip drive/My\\ Drive/final_data-fynd.zip"
      ],
      "execution_count": 0,
      "outputs": []
    },
    {
      "cell_type": "code",
      "metadata": {
        "id": "APW5itRMzvSp",
        "colab_type": "code",
        "colab": {}
      },
      "source": [
        "labels = ['backstrap_BV',\n",
        " 'backstrap_NBV',\n",
        " 'buckle_BV',\n",
        " 'buckle_NBV',\n",
        " 'hook&look_BV',\n",
        " 'hook&look_NBV',\n",
        " 'lace_up_BV',\n",
        " 'lace_up_NBV',\n",
        " 'slip_on_BV',\n",
        " 'slip_on_NBV',\n",
        " 'zipper_BV',\n",
        " 'zipper_NBV']\n"
      ],
      "execution_count": 0,
      "outputs": []
    },
    {
      "cell_type": "code",
      "metadata": {
        "id": "NyzorLQKz3VG",
        "colab_type": "code",
        "outputId": "aaf214ea-e827-41d7-da67-3fb91c91f063",
        "colab": {
          "base_uri": "https://localhost:8080/",
          "height": 271
        }
      },
      "source": [
        "vgg_model = VGG19(weights='imagenet', include_top=False)"
      ],
      "execution_count": 5,
      "outputs": [
        {
          "output_type": "stream",
          "text": [
            "WARNING: Logging before flag parsing goes to stderr.\n",
            "W0630 10:36:18.381148 139780937172864 deprecation_wrapper.py:119] From /usr/local/lib/python3.6/dist-packages/keras/backend/tensorflow_backend.py:74: The name tf.get_default_graph is deprecated. Please use tf.compat.v1.get_default_graph instead.\n",
            "\n",
            "W0630 10:36:18.402068 139780937172864 deprecation_wrapper.py:119] From /usr/local/lib/python3.6/dist-packages/keras/backend/tensorflow_backend.py:517: The name tf.placeholder is deprecated. Please use tf.compat.v1.placeholder instead.\n",
            "\n",
            "W0630 10:36:18.405764 139780937172864 deprecation_wrapper.py:119] From /usr/local/lib/python3.6/dist-packages/keras/backend/tensorflow_backend.py:4138: The name tf.random_uniform is deprecated. Please use tf.random.uniform instead.\n",
            "\n",
            "W0630 10:36:18.436507 139780937172864 deprecation_wrapper.py:119] From /usr/local/lib/python3.6/dist-packages/keras/backend/tensorflow_backend.py:3976: The name tf.nn.max_pool is deprecated. Please use tf.nn.max_pool2d instead.\n",
            "\n",
            "W0630 10:36:18.984603 139780937172864 deprecation_wrapper.py:119] From /usr/local/lib/python3.6/dist-packages/keras/backend/tensorflow_backend.py:174: The name tf.get_default_session is deprecated. Please use tf.compat.v1.get_default_session instead.\n",
            "\n",
            "W0630 10:36:18.986264 139780937172864 deprecation_wrapper.py:119] From /usr/local/lib/python3.6/dist-packages/keras/backend/tensorflow_backend.py:181: The name tf.ConfigProto is deprecated. Please use tf.compat.v1.ConfigProto instead.\n",
            "\n"
          ],
          "name": "stderr"
        }
      ]
    },
    {
      "cell_type": "code",
      "metadata": {
        "id": "PW3p_6_cz82_",
        "colab_type": "code",
        "outputId": "ee65682c-7438-4560-935b-b646757b178b",
        "colab": {
          "base_uri": "https://localhost:8080/",
          "height": 91
        }
      },
      "source": [
        "x = vgg_model.output\n",
        "x = GlobalAveragePooling2D()(x)\n",
        "\n",
        "# add fully-connected layer\n",
        "x = Dense(512, activation='relu')(x)\n",
        "x = Dropout(0.3)(x)\n",
        "\n",
        "# add output layer\n",
        "predictions = Dense(12, activation='softmax')(x)\n",
        "\n",
        "model = Model(inputs=vgg_model.input, outputs=predictions)\n",
        "model.load_weights('drive/My Drive/fine_tune_shoes_multiclass.best.hdf5')"
      ],
      "execution_count": 6,
      "outputs": [
        {
          "output_type": "stream",
          "text": [
            "W0630 10:36:21.114876 139780937172864 deprecation.py:506] From /usr/local/lib/python3.6/dist-packages/keras/backend/tensorflow_backend.py:3445: calling dropout (from tensorflow.python.ops.nn_ops) with keep_prob is deprecated and will be removed in a future version.\n",
            "Instructions for updating:\n",
            "Please use `rate` instead of `keep_prob`. Rate should be set to `rate = 1 - keep_prob`.\n"
          ],
          "name": "stderr"
        }
      ]
    },
    {
      "cell_type": "code",
      "metadata": {
        "id": "kLCQAbz2dcZ5",
        "colab_type": "code",
        "colab": {}
      },
      "source": [
        "def identify_type_submission(images , labels):\n",
        "    class_link = pd.DataFrame(columns = ['predicted_class', 'best_view_image'])\n",
        "    for i in range(0,len(images['class'])):\n",
        "      best_image_index = 0\n",
        "      type_score = dict()\n",
        "      image_list = []\n",
        "      best_image_link = []\n",
        "      j = 0\n",
        "      for view in ['view_1','view_2','view_3','view_4','view_5']:\n",
        "        try:\n",
        "          url_response = urllib.request.urlopen(images[view][i])\n",
        "          img_array = np.array(bytearray(url_response.read()), dtype=np.uint8)\n",
        "          image = cv2.imdecode(img_array, -1)\n",
        "          image_list.append(image)\n",
        "          best_image_link.append(images[view][i])\n",
        "          image = cv2.resize(image, (128,128))\n",
        "          image = img_to_array(image)\n",
        "          image = np.expand_dims(image, axis=0)\n",
        "          proba = model.predict(image)[0]\n",
        "          idxs = np.argsort(proba)[::-1][:1]\n",
        "          type_score[j] = {proba[idxs[0]] : labels[idxs[0]]}\n",
        "          j = j+1\n",
        "        except:\n",
        "          continue\n",
        "          \n",
        "      best_image = dict()\n",
        "      count = 0\n",
        "      for key,i in type_score.items() :\n",
        "          type_image  = list(i.values())[0]\n",
        "          score = list(i.keys())[0]\n",
        "          if type_image.split('_')[1] == 'BV':\n",
        "              best_image[count] = {score : type_image.split('_')[0]}\n",
        "          count = count + 1\n",
        "          \n",
        "      type_of_footwear = ''\n",
        "      if len(best_image) == 1:\n",
        "        for key,value in best_image.items():\n",
        "              type_of_footwear = list(value.values())[0]\n",
        "        best_image_index = list(best_image.keys())[0]\n",
        "        class_link = class_link.append(pd.Series([type_of_footwear, best_image_link[best_image_index]], index=class_link.columns), ignore_index=True)\n",
        "\n",
        "      if len(best_image) > 1 :\n",
        "        max_score = 0\n",
        "        best_image_index = 0\n",
        "        for key,value in best_image.items():\n",
        "          if list(value.keys())[0] > max_score:\n",
        "            max_score = list(value.keys())[0]\n",
        "            best_image_index = key\n",
        "            type_of_footwear = list(value.values())[0]\n",
        "        class_link = class_link.append(pd.Series([type_of_footwear, best_image_link[best_image_index]], index=class_link.columns), ignore_index=True)\n",
        "\n",
        "      if len(best_image) == 0:\n",
        "        max_score = 0\n",
        "        best_image_index = 0\n",
        "        for key,value in type_score.items():\n",
        "          if list(value.keys())[0] > max_score:\n",
        "            max_score = list(value.keys())[0]\n",
        "            best_image_index = key\n",
        "            type_of_footwear = list(value.values())[0].split('_')[0]\n",
        "        class_link = class_link.append(pd.Series([type_of_footwear, best_image_link[best_image_index]], index=class_link.columns), ignore_index=True)\n",
        "    return class_link"
      ],
      "execution_count": 0,
      "outputs": []
    },
    {
      "cell_type": "code",
      "metadata": {
        "id": "2nVmbLFJdoP4",
        "colab_type": "code",
        "outputId": "b2084d86-98db-42da-9e5d-2df59ebb99d9",
        "colab": {
          "base_uri": "https://localhost:8080/",
          "height": 53
        }
      },
      "source": [
        "%%time\n",
        "predicted_data_list = identify_type_submission(data_list, labels)"
      ],
      "execution_count": 21,
      "outputs": [
        {
          "output_type": "stream",
          "text": [
            "CPU times: user 1h 15min 16s, sys: 57.8 s, total: 1h 16min 14s\n",
            "Wall time: 6h 53min 45s\n"
          ],
          "name": "stdout"
        }
      ]
    },
    {
      "cell_type": "code",
      "metadata": {
        "id": "OfETVTWt841b",
        "colab_type": "code",
        "colab": {}
      },
      "source": [
        "predicted_data_list.loc[predicted_data_list['predicted_class'] == 'slip', 'predicted_class'] = 'slip_on'\n",
        "predicted_data_list.loc[predicted_data_list['predicted_class'] == 'lace', 'predicted_class'] = 'lace_up'"
      ],
      "execution_count": 0,
      "outputs": []
    },
    {
      "cell_type": "code",
      "metadata": {
        "id": "bR4z85ZadnCv",
        "colab_type": "code",
        "colab": {}
      },
      "source": [
        "new_data = pd.concat([data_list, predicted_data_list], axis=1)\n",
        "new_data.to_excel('Internship_Data-Predicted(Final).xlsx', index=False)"
      ],
      "execution_count": 0,
      "outputs": []
    },
    {
      "cell_type": "code",
      "metadata": {
        "id": "eNA9EFTte-kG",
        "colab_type": "code",
        "colab": {
          "base_uri": "https://localhost:8080/",
          "height": 235
        },
        "outputId": "d64fcca5-4d07-4205-9780-33d8e09a5377"
      },
      "source": [
        "!pip install pandas_ml"
      ],
      "execution_count": 38,
      "outputs": [
        {
          "output_type": "stream",
          "text": [
            "Collecting pandas_ml\n",
            "\u001b[?25l  Downloading https://files.pythonhosted.org/packages/ae/72/6d90debfcb9ea74ec00927fa7ed0204dcc560b1f9ffcd8b239daa7fd106d/pandas_ml-0.6.1-py3-none-any.whl (100kB)\n",
            "\u001b[K     |████████████████████████████████| 102kB 2.7MB/s \n",
            "\u001b[?25hRequirement already satisfied: enum34 in /usr/local/lib/python3.6/dist-packages (from pandas_ml) (1.1.6)\n",
            "Requirement already satisfied: pandas>=0.19.0 in /usr/local/lib/python3.6/dist-packages (from pandas_ml) (0.24.2)\n",
            "Requirement already satisfied: pytz>=2011k in /usr/local/lib/python3.6/dist-packages (from pandas>=0.19.0->pandas_ml) (2018.9)\n",
            "Requirement already satisfied: python-dateutil>=2.5.0 in /usr/local/lib/python3.6/dist-packages (from pandas>=0.19.0->pandas_ml) (2.5.3)\n",
            "Requirement already satisfied: numpy>=1.12.0 in /usr/local/lib/python3.6/dist-packages (from pandas>=0.19.0->pandas_ml) (1.16.4)\n",
            "Requirement already satisfied: six>=1.5 in /usr/local/lib/python3.6/dist-packages (from python-dateutil>=2.5.0->pandas>=0.19.0->pandas_ml) (1.12.0)\n",
            "Installing collected packages: pandas-ml\n",
            "Successfully installed pandas-ml-0.6.1\n"
          ],
          "name": "stdout"
        }
      ]
    },
    {
      "cell_type": "code",
      "metadata": {
        "id": "morQg7LueENi",
        "colab_type": "code",
        "colab": {}
      },
      "source": [
        "from sklearn.metrics import confusion_matrix, accuracy_score\n",
        "from pandas_ml import ConfusionMatrix\n",
        "import matplotlib.pyplot as plt"
      ],
      "execution_count": 0,
      "outputs": []
    },
    {
      "cell_type": "code",
      "metadata": {
        "id": "KYlP4X9yebld",
        "colab_type": "code",
        "colab": {
          "base_uri": "https://localhost:8080/",
          "height": 179
        },
        "outputId": "2b498af8-5215-4f1d-96ee-817e202358fc"
      },
      "source": [
        "cm = ConfusionMatrix(new_data['class'], new_data['predicted_class'])\n",
        "cm"
      ],
      "execution_count": 57,
      "outputs": [
        {
          "output_type": "execute_result",
          "data": {
            "text/plain": [
              "Predicted  backstrap  buckle  hook&look  lace_up  slip_on  zipper  __all__\n",
              "Actual                                                                    \n",
              "backstrap        241      27         24        0        1      42      335\n",
              "buckle            15      52         41        1        1      29      139\n",
              "hook&look          1       0        302        0        0       1      304\n",
              "lace_up            0       2         39      189       15     208      453\n",
              "slip_on            1      13         75       15       84     237      425\n",
              "zipper             5      16         26        1        2     450      500\n",
              "__all__          263     110        507      206      103     967     2156"
            ]
          },
          "metadata": {
            "tags": []
          },
          "execution_count": 57
        }
      ]
    },
    {
      "cell_type": "code",
      "metadata": {
        "id": "bzN2upUbiPq2",
        "colab_type": "code",
        "colab": {
          "base_uri": "https://localhost:8080/",
          "height": 519
        },
        "outputId": "385c7a28-bd60-405d-d7ea-0118f3e5cd22"
      },
      "source": [
        "cm.plot()\n",
        "plt.show()"
      ],
      "execution_count": 58,
      "outputs": [
        {
          "output_type": "display_data",
          "data": {
            "image/png": "[encoded data removed]",
            "text/plain": [
              "<Figure size 648x576 with 2 Axes>"
            ]
          },
          "metadata": {
            "tags": []
          }
        }
      ]
    },
    {
      "cell_type": "code",
      "metadata": {
        "id": "oV_X-45WeSQU",
        "colab_type": "code",
        "colab": {
          "base_uri": "https://localhost:8080/",
          "height": 35
        },
        "outputId": "1377d683-1b84-41ca-ce71-ae387079d819"
      },
      "source": [
        "accuracy_score(new_data['class'], new_data['predicted_class'])"
      ],
      "execution_count": 34,
      "outputs": [
        {
          "output_type": "execute_result",
          "data": {
            "text/plain": [
              "0.6113172541743971"
            ]
          },
          "metadata": {
            "tags": []
          },
          "execution_count": 34
        }
      ]
    }
  ]
}